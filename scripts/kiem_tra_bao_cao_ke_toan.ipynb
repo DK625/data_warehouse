{
 "cells": [
  {
   "cell_type": "code",
   "execution_count": 12,
   "metadata": {
    "ExecuteTime": {
     "end_time": "2024-02-22T09:20:04.203634978Z",
     "start_time": "2024-02-22T09:20:04.189009399Z"
    }
   },
   "outputs": [],
   "source": [
    "import csv\n",
    "\n",
    "def load_csv(file_name):\n",
    "    with open(file_name, 'r') as f:\n",
    "        reader = csv.DictReader(f)\n",
    "        data = list(reader)\n",
    "    return data"
   ]
  },
  {
   "cell_type": "code",
   "execution_count": 13,
   "metadata": {
    "ExecuteTime": {
     "end_time": "2024-02-22T09:20:04.216104772Z",
     "start_time": "2024-02-22T09:20:04.204117552Z"
    }
   },
   "outputs": [],
   "source": [
    "tong_hop = load_csv('./tong_hop_2024_01.csv')\n",
    "chi_tiet_giam = load_csv('./chi_tiet_giam_2024_01.csv')\n",
    "chi_tiet_tang = load_csv('./chi_tiet_tang_2024_01.csv')"
   ]
  },
  {
   "cell_type": "code",
   "execution_count": 14,
   "metadata": {
    "collapsed": false,
    "ExecuteTime": {
     "end_time": "2024-02-22T09:20:04.264868363Z",
     "start_time": "2024-02-22T09:20:04.220246370Z"
    }
   },
   "outputs": [],
   "source": [
    "lech_tong_hop = []\n",
    "tong_hop_mapping = {}\n",
    "for r in tong_hop:\n",
    "    email = r[\"email\"]\n",
    "    tkkm = float(r[\"So du cuoi(tk km)\"])\n",
    "    tkgoc = float(r[\"So du cuoi(tk goc)\"])\n",
    "    tkkm_tl = float(r[\"tk km(tinh lai)\"])\n",
    "    tkgoc_tl = float(r[\"tk goc(tinh lai)\"])\n",
    "    tkkm_pst = float(r[\"Phat sinh tang(tk km)\"])\n",
    "    tkgoc_pst = float(r[\"Phat sinh tang(tk goc)\"])\n",
    "    tkkm_psg = float(r[\"Phat sinh giam(tk km)\"])\n",
    "    tkgoc_psg = float(r[\"Phat sinh giam(tk goc)\"])\n",
    "    diff1 = 0\n",
    "    diff2 = 0\n",
    "    diff1 = tkgoc_tl - tkgoc\n",
    "    diff2 = tkkm_tl - tkkm\n",
    "    if abs(diff1)> 0.1 or abs(diff2) > 0.1:\n",
    "        lech_tong_hop.append({\"email\": email, \"lech_goc\": diff1, \"lech_km\": diff2})\n",
    "    tong_hop_mapping[email] = {\n",
    "        \"tkgoc_tang\": tkgoc_pst,\n",
    "        \"tkgoc_giam\": tkgoc_psg,\n",
    "        \"tkkm_tang\": tkkm_pst,\n",
    "        \"tkkm_giam\": tkkm_psg,\n",
    "    }"
   ]
  },
  {
   "cell_type": "code",
   "execution_count": 15,
   "metadata": {
    "collapsed": false,
    "ExecuteTime": {
     "end_time": "2024-02-22T09:20:04.265630235Z",
     "start_time": "2024-02-22T09:20:04.264723569Z"
    }
   },
   "outputs": [],
   "source": [
    "from collections import defaultdict\n",
    "chi_tiet_tang_mapping = defaultdict(lambda: defaultdict(float))\n",
    "\n",
    "\n",
    "for r in chi_tiet_tang:\n",
    "    email = r[\"email\"]\n",
    "    tkgoc_tang = float(r[\"primary_amount\"])\n",
    "    tkkm_tang = float(r[\"promotion_amount\"])\n",
    "    chi_tiet_tang_mapping[email][\"tkgoc_tang\"] += tkgoc_tang\n",
    "    chi_tiet_tang_mapping[email][\"tkkm_tang\"] += tkkm_tang"
   ]
  },
  {
   "cell_type": "code",
   "execution_count": 16,
   "metadata": {
    "collapsed": false,
    "ExecuteTime": {
     "end_time": "2024-02-22T09:20:04.265967695Z",
     "start_time": "2024-02-22T09:20:04.265453979Z"
    }
   },
   "outputs": [],
   "source": [
    "chi_tiet_giam_mapping = defaultdict(lambda: defaultdict(float))\n",
    "\n",
    "for r in chi_tiet_giam:\n",
    "    email = r[\"email\"]\n",
    "    tkgoc_giam = float(r[\"primary_amount\"])\n",
    "    tkkm_giam = float(r[\"promotion_amount\"])\n",
    "    chi_tiet_giam_mapping[email][\"tkgoc_giam\"] += tkgoc_giam\n",
    "    chi_tiet_giam_mapping[email][\"tkkm_giam\"] += tkkm_giam"
   ]
  },
  {
   "cell_type": "code",
   "execution_count": 17,
   "metadata": {
    "collapsed": false,
    "ExecuteTime": {
     "end_time": "2024-02-22T09:20:04.266425429Z",
     "start_time": "2024-02-22T09:20:04.265602397Z"
    }
   },
   "outputs": [],
   "source": [
    "danh_sach_lech_chi_tiet = []\n",
    "\n",
    "for email, tonghop in tong_hop_mapping.items():\n",
    "    tong_hop_tang_tkkm = tonghop[\"tkkm_tang\"]\n",
    "    tong_hop_tang_tkgoc = tonghop[\"tkgoc_tang\"]\n",
    "    tong_hop_giam_tkkm = tonghop[\"tkkm_giam\"]\n",
    "    tong_hop_giam_tkgoc = tonghop[\"tkgoc_giam\"]\n",
    "    chi_tiet_tang_tkkm = chi_tiet_tang_mapping[email][\"tkkm_tang\"]\n",
    "    chi_tiet_tang_tkgoc = chi_tiet_tang_mapping[email][\"tkgoc_tang\"]\n",
    "    chi_tiet_giam_tkkm = chi_tiet_giam_mapping[email][\"tkkm_giam\"]\n",
    "    chi_tiet_giam_tkgoc = chi_tiet_giam_mapping[email][\"tkgoc_giam\"]\n",
    "    diff1 = abs(tong_hop_tang_tkgoc - chi_tiet_tang_tkgoc)\n",
    "    diff2 = abs(tong_hop_tang_tkkm - chi_tiet_tang_tkkm)\n",
    "    diff3 = abs(tong_hop_giam_tkgoc - chi_tiet_giam_tkgoc)\n",
    "    diff4 = abs(tong_hop_giam_tkkm - chi_tiet_giam_tkkm)\n",
    "    \n",
    "    if diff1 > 0.1 or diff2 > 0.1 or diff3 > 0.1 or diff4 > 0.1:\n",
    "        danh_sach_lech_chi_tiet.append({\n",
    "            \"email\": email,\n",
    "            \"tong_hop_tang_tkgoc\": tong_hop_tang_tkgoc,\n",
    "            \"tong_hop_tang_tkkm\": tong_hop_tang_tkkm,\n",
    "            \"tong_hop_giam_tkgoc\": tong_hop_giam_tkgoc,\n",
    "            \"tong_hop_giam_tkkm\": tong_hop_giam_tkkm,\n",
    "            \"chi_tiet_tang_tkgoc\": chi_tiet_tang_tkgoc,\n",
    "            \"chi_tiet_tang_tkkm\": chi_tiet_tang_tkkm,\n",
    "            \"chi_tiet_giam_tkgoc\": chi_tiet_giam_tkgoc,\n",
    "            \"chi_tiet_giam_tkkm\": chi_tiet_giam_tkkm,\n",
    "            \"diff1\": diff1,\n",
    "            \"diff2\": diff2,\n",
    "            \"diff3\": diff3,\n",
    "            \"diff4\": diff4,\n",
    "        })"
   ]
  },
  {
   "cell_type": "code",
   "execution_count": 18,
   "metadata": {
    "collapsed": false,
    "ExecuteTime": {
     "end_time": "2024-02-22T09:20:04.267044936Z",
     "start_time": "2024-02-22T09:20:04.265735408Z"
    }
   },
   "outputs": [
    {
     "data": {
      "text/plain": "[]"
     },
     "execution_count": 18,
     "metadata": {},
     "output_type": "execute_result"
    }
   ],
   "source": [
    "lech_tong_hop"
   ]
  },
  {
   "cell_type": "code",
   "execution_count": 19,
   "metadata": {
    "collapsed": false,
    "ExecuteTime": {
     "end_time": "2024-02-22T09:20:04.267520554Z",
     "start_time": "2024-02-22T09:20:04.265867018Z"
    }
   },
   "outputs": [
    {
     "data": {
      "text/plain": "[]"
     },
     "execution_count": 19,
     "metadata": {},
     "output_type": "execute_result"
    }
   ],
   "source": [
    "danh_sach_lech_chi_tiet"
   ]
  },
  {
   "cell_type": "code",
   "execution_count": 20,
   "metadata": {
    "collapsed": false,
    "ExecuteTime": {
     "end_time": "2024-02-22T09:20:04.268132303Z",
     "start_time": "2024-02-22T09:20:04.266026618Z"
    }
   },
   "outputs": [
    {
     "data": {
      "text/plain": "0"
     },
     "execution_count": 20,
     "metadata": {},
     "output_type": "execute_result"
    }
   ],
   "source": [
    "len(lech_tong_hop)"
   ]
  },
  {
   "cell_type": "code",
   "execution_count": 21,
   "metadata": {
    "collapsed": false,
    "ExecuteTime": {
     "end_time": "2024-02-22T09:20:04.331613378Z",
     "start_time": "2024-02-22T09:20:04.266136284Z"
    }
   },
   "outputs": [
    {
     "data": {
      "text/plain": "0"
     },
     "execution_count": 21,
     "metadata": {},
     "output_type": "execute_result"
    }
   ],
   "source": [
    "len(danh_sach_lech_chi_tiet)"
   ]
  },
  {
   "cell_type": "code",
   "execution_count": 22,
   "metadata": {
    "collapsed": false,
    "ExecuteTime": {
     "end_time": "2024-02-22T09:20:04.332183571Z",
     "start_time": "2024-02-22T09:20:04.312802144Z"
    }
   },
   "outputs": [
    {
     "data": {
      "text/plain": "[]"
     },
     "execution_count": 22,
     "metadata": {},
     "output_type": "execute_result"
    }
   ],
   "source": [
    "lech_tong_hop"
   ]
  }
 ],
 "metadata": {
  "kernelspec": {
   "display_name": "Python 3 (ipykernel)",
   "language": "python",
   "name": "python3"
  },
  "language_info": {
   "codemirror_mode": {
    "name": "ipython",
    "version": 3
   },
   "file_extension": ".py",
   "mimetype": "text/x-python",
   "name": "python",
   "nbconvert_exporter": "python",
   "pygments_lexer": "ipython3",
   "version": "3.9.16"
  }
 },
 "nbformat": 4,
 "nbformat_minor": 4
}
